{
 "cells": [
  {
   "cell_type": "code",
   "execution_count": 1,
   "metadata": {
    "collapsed": false,
    "slideshow": {
     "slide_type": "slide"
    }
   },
   "outputs": [],
   "source": [
    "%matplotlib inline\n",
    "#%matplotlib qt\n",
    "import seaborn\n",
    "from mpl_toolkits.mplot3d import Axes3D\n",
    "from mpl_toolkits.mplot3d.art3d import Line3DCollection\n",
    "from matplotlib import pylab as plt\n",
    "import root_numpy\n",
    "import pandas as pd\n",
    "import numpy\n",
    "from scipy.stats import gaussian_kde\n",
    "from xgboost import XGBClassifier\n",
    "from sklearn.model_selection import GridSearchCV\n",
    "\n",
    "\n",
    "BRICK_X = 124000\n",
    "# Changed due to ignorance of 57th layer. Originally : #BRICK_Y = 99000\n",
    "BRICK_Y = 76710\n",
    "BRICK_Z = 75000\n",
    "SAFE_M = 10000\n",
    "dZ = 205\n",
    "\n",
    "import numpy.linalg as la\n",
    " \n",
    "def angle(v1, v2):\n",
    "    cos = (v1*v2).sum(axis=1)\n",
    "    sin = la.norm(numpy.cross(v1, v2, axis=1), axis=1)\n",
    "    return numpy.arctan2(sin, cos)"
   ]
  },
  {
   "cell_type": "code",
   "execution_count": 2,
   "metadata": {
    "collapsed": false,
    "slideshow": {
     "slide_type": "slide"
    }
   },
   "outputs": [],
   "source": [
    "def load_bg(step=1000):\n",
    "    # ignore 57th layer since it looks different\n",
    "    etalon_plates = []\n",
    "    for p in range(48, 57):\n",
    "        backtracks = root_numpy.root2array(\"data-2016/129294.{p}.1.1000.cp.root\".format(p=p), \n",
    "                                       treename=\"couples\", \n",
    "                                       branches=[\"s.eX\", \"s.eY\", \"s.eZ\",\n",
    "                                                \"s.eTX\", \"s.eTY\",\n",
    "                                                \"s.eChi2\"], step=step)\n",
    "        etalon_plates.append(backtracks)\n",
    "        \n",
    "    df = None\n",
    "    for p in range(58):\n",
    "        plate = numpy.copy(etalon_plates[p % len(etalon_plates)])\n",
    "        plate['s.eZ'] = p * 1293\n",
    "        # plt.hist(backtracks['s.eY'], bins=100, histtype='step', label=\"%d\"%p)\n",
    "        if df is None:\n",
    "            df = pd.DataFrame(plate)\n",
    "            # print \">\", df.shape\n",
    "        else:\n",
    "            df = pd.concat([df, pd.DataFrame(plate)], ignore_index=True)\n",
    "    # plt.legend()\n",
    "    print (\"bg: {n} tracks\".format(n=df.shape[0]))\n",
    "    return df"
   ]
  },
  {
   "cell_type": "code",
   "execution_count": 3,
   "metadata": {
    "collapsed": false
   },
   "outputs": [],
   "source": [
    "def load_mc(filename=\"data-2016/mcdata_taue2.root\", step=1):\n",
    "    mc = root_numpy.root2array(\n",
    "                        filename,\n",
    "                        treename=\"Data\",\n",
    "                        branches=[\"Event_id\", \"ele_P\",\n",
    "                                   \"BT_X\", \"BT_Y\", \"BT_Z\",\n",
    "                                   \"BT_SX\", \"BT_SY\",\n",
    "                                   \"ele_x\", \"ele_y\", \"ele_z\", \n",
    "                                   \"ele_sx\", \"ele_sy\", \n",
    "                                   \"chisquare\"],\n",
    "                        step=step)\n",
    "    pmc = pd.DataFrame(mc)\n",
    "    pmc['numtracks'] = pmc.BT_X.apply(lambda x: len(x))\n",
    "    # cuts\n",
    "    shapechange = [pmc.shape[0]]\n",
    "    pmc = pmc[pmc.ele_P > 0.1]\n",
    "    shapechange.append(pmc.shape[0])\n",
    "    \n",
    "    #pmc = pmc[pmc.ele_x.abs() < BRICK_X / 2 - SAFE_M]\n",
    "    #shapechange.append(pmc.shape[0])\n",
    "    ele_x = numpy.random.uniform(BRICK_X / 2 - SAFE_M, BRICK_X / 2 + SAFE_M, size=pmc.shape[0])\n",
    "    delta_ele_x = pmc.ele_x - ele_x\n",
    "    pmc.ele_x = ele_x\n",
    "    pmc.BT_X -= delta_ele_x\n",
    "    \n",
    "    #pmc = pmc[pmc.ele_y.abs() < BRICK_Y / 2 - SAFE_M]\n",
    "    #shapechange.append(pmc.shape[0])\n",
    "    ele_y = numpy.random.uniform(BRICK_Y / 2 - SAFE_M, BRICK_Y / 2 + SAFE_M, size=pmc.shape[0])\n",
    "    delta_ele_y = pmc.ele_y - ele_y\n",
    "    pmc.ele_y = ele_y\n",
    "    pmc.BT_Y -= delta_ele_y\n",
    "    \n",
    "    pmc = pmc[pmc.ele_z < 0]\n",
    "    shapechange.append(pmc.shape[0])\n",
    "    \n",
    "    pmc = pmc[pmc.numtracks > 3]\n",
    "    shapechange.append(pmc.shape[0])\n",
    "    print (\"numtracks reduction by cuts: \", shapechange)\n",
    "    # calc centers\n",
    "    # to brick reference frame and center\n",
    "    pmc['m_BT_X'] = pmc.BT_X.apply(lambda x: x.mean())\n",
    "    pmc['m_BT_Y'] = pmc.BT_Y.apply(lambda x: x.mean())\n",
    "    pmc['m_BT_Z'] = pmc.BT_Z.apply(lambda x: x.mean())\n",
    "    #pmc.BT_X += BRICK_X / 2\n",
    "    #pmc.BT_Y += BRICK_Y / 2\n",
    "    pmc.BT_Z += BRICK_Z / 2\n",
    "    #pmc.ele_x += BRICK_X / 2\n",
    "    #pmc.ele_y += BRICK_Y / 2\n",
    "    pmc.ele_z += BRICK_Z / 2\n",
    "    print (\"len(pmc): {len}\".format(len=len(pmc)))\n",
    "    return pmc"
   ]
  },
  {
   "cell_type": "code",
   "execution_count": 4,
   "metadata": {
    "collapsed": false,
    "slideshow": {
     "slide_type": "slide"
    }
   },
   "outputs": [
    {
     "name": "stderr",
     "output_type": "stream",
     "text": [
      "TClass::TClass:0: RuntimeWarning: no dictionary for class EdbPoint2D is available\n",
      "TClass::TClass:0: RuntimeWarning: no dictionary for class EdbPoint is available\n",
      "TClass::TClass:0: RuntimeWarning: no dictionary for class EdbTrack2D is available\n",
      "TClass::TClass:0: RuntimeWarning: no dictionary for class EdbAngle2D is available\n",
      "TClass::TClass:0: RuntimeWarning: no dictionary for class EdbSegCouple is available\n",
      "TClass::TClass:0: RuntimeWarning: no dictionary for class EdbSegP is available\n",
      "TClass::TClass:0: RuntimeWarning: no dictionary for class EdbID is available\n"
     ]
    },
    {
     "name": "stdout",
     "output_type": "stream",
     "text": [
      "bg: 27322110 tracks\n"
     ]
    }
   ],
   "source": [
    "pbg = load_bg(step=1)"
   ]
  },
  {
   "cell_type": "code",
   "execution_count": 5,
   "metadata": {
    "collapsed": false
   },
   "outputs": [
    {
     "name": "stdout",
     "output_type": "stream",
     "text": [
      "numtracks reduction by cuts:  [18724, 18679, 9616, 9106]\n",
      "len(pmc): 9106\n"
     ]
    }
   ],
   "source": [
    "pmc = load_mc(step=1)"
   ]
  },
  {
   "cell_type": "code",
   "execution_count": 6,
   "metadata": {
    "collapsed": false
   },
   "outputs": [],
   "source": [
    "BT_Z_unique = numpy.unique(pbg['s.eZ'])\n",
    "bg_density = len(pbg)/((pbg['s.eZ'].max() - pbg['s.eZ'].min())*\n",
    "                       (pbg['s.eY'].max() - pbg['s.eY'].min())*\n",
    "                       (pbg['s.eX'].max() - pbg['s.eX'].min()))"
   ]
  },
  {
   "cell_type": "code",
   "execution_count": 7,
   "metadata": {
    "collapsed": false
   },
   "outputs": [
    {
     "name": "stdout",
     "output_type": "stream",
     "text": [
      "27322110\n"
     ]
    }
   ],
   "source": [
    "print (len(pbg))"
   ]
  },
  {
   "cell_type": "code",
   "execution_count": 8,
   "metadata": {
    "collapsed": false
   },
   "outputs": [
    {
     "name": "stdout",
     "output_type": "stream",
     "text": [
      "0 100 200 300 400 500 600 700 800 900 1000 1100 1200 1300 1400 1500 1600 1700 1800 1900 2000 2100 2200 2300 2400 2500 2600 2700 2800 2900 3000 3100 3200 3300 3400 3500 3600 3700 3800 3900 4000 4100 4200 4300 4400 4500 4600 4700 4800 4900 5000 5100 5200 5300 5400 5500 5600 5700 5800 5900 6000 6100 6200 6300 6400 6500 6600 6700 6800 6900 7000 7100 7200 7300 7400 7500 7600 7700 7800 7900 8000 8100 8200 8300 8400 8500 8600 8700 8800 8900 9000 9100 "
     ]
    }
   ],
   "source": [
    "res_angle = []\n",
    "for id in range(len(pmc)):\n",
    "    df = pmc.iloc[id]   \n",
    "    dmc = pd.DataFrame([        \n",
    "                df['BT_X'],\n",
    "                df['BT_Y'],\n",
    "                df['BT_Z'],\n",
    "                df['BT_SX'],\n",
    "                df['BT_SY'],\n",
    "                df['BT_X'] + df['BT_SX']*dZ,\n",
    "                df['BT_Y'] + df['BT_SY']*dZ,\n",
    "                df['BT_Z'] + dZ,\n",
    "                df['chisquare'][:len(df['BT_X'])]],\n",
    "                index=['sx', 'sy', 'sz', 'TX', 'TY', \n",
    "              'ex', 'ey', 'ez', 'chi2']).T    \n",
    "    dd = dmc\n",
    "    dd['ele_x'] = df['ele_x']\n",
    "    dd['ele_y'] = df['ele_y']\n",
    "    dd['ele_z'] = df['ele_z']\n",
    "    dd['ele_sx'] = df['ele_sx']\n",
    "    dd['ele_sy'] = df['ele_sy']\n",
    "    dd['ele_sz'] = 1\n",
    "    alpha = angle(numpy.array([(dd['sx'] - dd['ele_x']), (dd['sy'] - dd['ele_y']), (dd['sz'] - dd['ele_z'])]).T, \n",
    "                  numpy.array([dd['ele_sx'], dd['ele_sy'], dd['ele_sz']]).T)\n",
    "    res_angle += alpha.tolist()\n",
    "    if id % 100 == 0:\n",
    "        print (id, end=' ')"
   ]
  },
  {
   "cell_type": "code",
   "execution_count": 9,
   "metadata": {
    "collapsed": false
   },
   "outputs": [
    {
     "data": {
      "image/png": "[encoded data removed]",
      "text/plain": [
       "<matplotlib.figure.Figure at 0x7f1dc14e8e48>"
      ]
     },
     "metadata": {},
     "output_type": "display_data"
    }
   ],
   "source": [
    "plt.figure(figsize=(7,7));\n",
    "plt.hist(res_angle, range=(0,0.05), bins=100);"
   ]
  },
  {
   "cell_type": "code",
   "execution_count": 10,
   "metadata": {
    "collapsed": false,
    "slideshow": {
     "slide_type": "skip"
    }
   },
   "outputs": [],
   "source": [
    "def plot_bg_and_mc(pbg, pmc, id=1, step=1):\n",
    "    df = pbg.sample(n=27000)\n",
    "    # mind the order!\n",
    "    d0 = pd.DataFrame([\n",
    "                df['s.eZ'][::step],\n",
    "                df['s.eX'][::step],\n",
    "                df['s.eY'][::step]],\n",
    "                index=['z', 'x', 'y']).T\n",
    "    numtracks = d0.shape[0]\n",
    "    dd = pd.DataFrame([\n",
    "            df['s.eTX'][::step]*dZ,\n",
    "            df['s.eTY'][::step]*dZ],\n",
    "            index=['x', 'y']).T\n",
    "    dd.insert(loc=0, column='z', value=dZ)\n",
    "    d1 = d0 + dd\n",
    "    # print d0, d1\n",
    "    C = plt.cm.Blues(0.5)\n",
    "    lc_bg = Line3DCollection(list(zip(d0.values, d1.values)), colors=C, alpha=0.5, lw=2)\n",
    "    fig = plt.figure(figsize=(12,8))\n",
    "    ax = fig.gca(projection='3d')\n",
    "    ax.view_init(azim=-84, elev=10)\n",
    "    df = pmc.iloc[id]\n",
    "    # mind the order!\n",
    "    d0 = pd.DataFrame([\n",
    "                df['BT_Z'],\n",
    "                df['BT_X'],\n",
    "                df['BT_Y']],\n",
    "                index=['z', 'x', 'y']).T\n",
    "    numtracks = d0.shape[0]\n",
    "    dd = pd.DataFrame([\n",
    "            df['BT_SX']*dZ,\n",
    "            df['BT_SY']*dZ],\n",
    "            index=['x', 'y']).T\n",
    "    dd.insert(loc=0, column='z', value=dZ)\n",
    "    d1 = d0 + dd\n",
    "    #print (d0, d1)\n",
    "    C = plt.cm.Reds(0.5)\n",
    "    lc_mc = Line3DCollection(list(zip(d0.values, d1.values)), colors=C, alpha=0.9, lw=2)\n",
    "\n",
    "    ax.add_collection3d(lc_mc)\n",
    "    ax.add_collection3d(lc_bg)\n",
    "    # mind the order!\n",
    "    ax.set_xlabel(\"z\")\n",
    "    ax.set_ylabel(\"x\")\n",
    "    ax.set_zlabel(\"y\")  \n",
    "    ax.set_xlim(0, BRICK_Z)\n",
    "    ax.set_ylim(0, BRICK_X)\n",
    "    ax.set_zlim(0, BRICK_Y)"
   ]
  },
  {
   "cell_type": "code",
   "execution_count": 11,
   "metadata": {
    "collapsed": false,
    "slideshow": {
     "slide_type": "skip"
    }
   },
   "outputs": [],
   "source": [
    "def combine_mc_bg(pmc, pbg, id=0):\n",
    "    dZ = 204\n",
    "    #random permutation of basetracks in background\n",
    "    #pbg['s.eX'] = pbg['s.eX'].sample(frac=1)\n",
    "    #pbg['s.eY'] = pbg['s.eY'].sample(frac=1)\n",
    "    #pbg['s.eZ'] = pbg['s.eZ'].sample(frac=1)\n",
    "    \n",
    "    df = pmc.iloc[id]\n",
    "    Delta_Z = (BT_Z_unique.max() - df.ele_z)\n",
    "    Max_X = df.ele_x + min((max(df.ele_sx, 0) + 0.11)*Delta_Z, 72240.312500)\n",
    "    Min_X = df.ele_x - max((min(df.ele_sx, 0) - 0.11)*Delta_Z, 27762.396484)\n",
    "    Max_Y = df.ele_y + min((max(df.ele_sy, 0) + 0.11)*Delta_Z, 76710.242188)\n",
    "    Min_Y = df.ele_y - max((min(df.ele_sy, 0) - 0.11)*Delta_Z, 3312.499512)\n",
    "    Delta_X = (abs(df.ele_sx) + 0.11)*Delta_Z\n",
    "    Delta_Y = (abs(df.ele_sy) + 0.11)*Delta_Z\n",
    "    \n",
    "    #N = int(Delta_Z*Delta_Y*Delta_X*4*bg_density)\n",
    "    N = int(Delta_Z*(Max_X - Min_X)*(Max_Y - Min_Y)*bg_density)\n",
    "    pbg = pbg.sample(n = N)\n",
    "    pbg['s.eZ'] = numpy.random.choice(BT_Z_unique[BT_Z_unique >= df.ele_z], size=N)\n",
    "    pbg['s.eX'] = numpy.random.uniform(low = Min_X,\n",
    "                                       high = Max_X,\n",
    "                                       size = N)\n",
    "    pbg['s.eY'] = numpy.random.uniform(low = Min_Y,\n",
    "                                       high = Max_Y,\n",
    "                                       size = N)    \n",
    "    dmix = pd.DataFrame([\n",
    "                pbg['s.eX'],\n",
    "                pbg['s.eY'],\n",
    "                pbg['s.eZ'],\n",
    "                pbg['s.eTX'],\n",
    "                pbg['s.eTY'],\n",
    "                pbg['s.eX'] + pbg['s.eTX']*dZ,\n",
    "                pbg['s.eY'] + pbg['s.eTY']*dZ,\n",
    "                pbg['s.eZ'] + dZ,\n",
    "                pbg['s.eChi2']],\n",
    "                index=['sx', 'sy', 'sz', 'TX', 'TY', \n",
    "                       'ex', 'ey', 'ez', 'chi2']).T\n",
    "    #d0['signal'] = 0\n",
    "    dmix['signal'] = 0\n",
    "       \n",
    "    dmc = pd.DataFrame([        \n",
    "                df['BT_X'],\n",
    "                df['BT_Y'],\n",
    "                df['BT_Z'],\n",
    "                df['BT_SX'],\n",
    "                df['BT_SY'],\n",
    "                df['BT_X'] + df['BT_SX']*dZ,\n",
    "                df['BT_Y'] + df['BT_SY']*dZ,\n",
    "                df['BT_Z'] + dZ,\n",
    "                df['chisquare'][:len(df['BT_X'])]],\n",
    "                index=['sx', 'sy', 'sz', 'TX', 'TY', \n",
    "              'ex', 'ey', 'ez', 'chi2']).T\n",
    "    dmc['signal'] = 1\n",
    "    \n",
    "    dd = pd.concat([dmix, dmc])\n",
    "    dd['ele_x'] = df['ele_x']\n",
    "    dd['ele_y'] = df['ele_y']\n",
    "    dd['ele_z'] = df['ele_z']\n",
    "    dd['ele_sx'] = df['ele_sx']\n",
    "    dd['ele_sy'] = df['ele_sy']\n",
    "    dd['ele_sz'] = 1\n",
    "    alpha = angle(numpy.array([(dd['sx'] - dd['ele_x']), (dd['sy'] - dd['ele_y']), (dd['sz'] - dd['ele_z'])]).T, \n",
    "                  numpy.array([dd['ele_sx'], dd['ele_sy'], dd['ele_sz']]).T)\n",
    "    dd['alpha'] = alpha\n",
    "    dd = dd.loc[dd.chi2 < 3]\n",
    "    dd = dd.loc[dd.alpha < 0.05]\n",
    "    return dd"
   ]
  },
  {
   "cell_type": "markdown",
   "metadata": {},
   "source": [
    "# Хафа преобразование\n",
    "\n",
    "Так как углы наклона base-track известны, то понятно, что можно просто перевести весь массив base-track'ов в параметрическое пространство(5 параметров: направляющий вектор + x, y, вид параметризации взят из https://lionel.kr.hs-niederrhein.de/~dalitz/data/publications/hough3d-visapp16.pdf ).\n",
    "А дальше можно просто либо гистограмму, либо с помощью gaussian_kde оценить плотность распределения.\n",
    "\n",
    "Прямого применения для нахождения вершины и направления она не нашла, но, зато, значение плотности распределения используется как ещё одна переменная."
   ]
  },
  {
   "cell_type": "code",
   "execution_count": 12,
   "metadata": {
    "collapsed": false
   },
   "outputs": [],
   "source": [
    "def cartesian_to_spherical(x,y,z):\n",
    "    r_xy = x**2 + y**2\n",
    "    r = numpy.sqrt(r_xy + z**2)\n",
    "    theta = numpy.arctan2(z, numpy.sqrt(r_xy))\n",
    "    phi = numpy.arctan2(y, x)\n",
    "    return numpy.array([numpy.cos(phi)*numpy.cos(theta), numpy.sin(phi)*numpy.cos(theta), numpy.sin(theta)])\n",
    "\n",
    "def Simple_Hough3D(sx, sy, sz, ex, ey):\n",
    "    B = cartesian_to_spherical(ex - sx, ey - sy, 205)\n",
    "    X = (1 - B[0]**2/(1 + B[2])) * sx - B[0] * B[1] / (1 + B[2]) * sy - B[0] * sz\n",
    "    Y = - B[0] * B[1] / (1 + B[2]) * sx + (1 - B[1]**2/(1 + B[2])) * sy - B[1] * sz\n",
    "    return B, X.reshape((1,-1)), Y.reshape((1,-1))"
   ]
  },
  {
   "cell_type": "code",
   "execution_count": 15,
   "metadata": {
    "collapsed": false
   },
   "outputs": [
    {
     "name": "stdout",
     "output_type": "stream",
     "text": [
      "Lost basetracks: 0.262554585153 %\n",
      "2702\n",
      "Lost basetracks: 0.1875 %\n",
      "13\n",
      "Lost basetracks: 0.268138801262 %\n",
      "232\n",
      "Lost basetracks: 0.282894736842 %\n",
      "109\n",
      "Lost basetracks: 0.248076923077 %\n",
      "391\n",
      "Lost basetracks: 0.218487394958 %\n",
      "93\n",
      "Lost basetracks: 0.419047619048 %\n",
      "61\n",
      "Lost basetracks: 0.19512195122 %\n",
      "495\n",
      "Lost basetracks: 0.541666666667 %\n",
      "11\n",
      "Lost basetracks: 0.254278728606 %\n",
      "305\n",
      "Lost basetracks: 0.402597402597 %\n",
      "46\n",
      "Lost basetracks: 0.252631578947 %\n",
      "213\n",
      "Lost basetracks: 0.411042944785 %\n",
      "96\n",
      "Lost basetracks: 0.390804597701 %\n",
      "53\n",
      "Lost basetracks: 0.246453900709 %\n",
      "425\n",
      "Lost basetracks: 0.186411149826 %\n",
      "467\n",
      "Lost basetracks: 0.259842519685 %\n",
      "94\n",
      "Lost basetracks: 0.215517241379 %\n",
      "1183\n",
      "Lost basetracks: 0.199191102123 %\n",
      "792\n",
      "Lost basetracks: 0.583333333333 %\n",
      "60\n",
      "Lost basetracks: 0.264804469274 %\n",
      "658\n",
      "Lost basetracks: 0.336734693878 %\n",
      "195\n",
      "Lost basetracks: 0.358208955224 %\n",
      "86\n",
      "Lost basetracks: 0.995620437956 %\n",
      "3\n",
      "Lost basetracks: 0.703703703704 %\n",
      "8\n",
      "Lost basetracks: 0.246753246753 %\n",
      "406\n",
      "Lost basetracks: 0.219455252918 %\n",
      "1003\n",
      "Lost basetracks: 0.231843575419 %\n",
      "275\n",
      "Lost basetracks: 0.232673267327 %\n",
      "310\n",
      "Lost basetracks: 0.284518828452 %\n",
      "513\n",
      "Lost basetracks: 0.395299145299 %\n",
      "283\n",
      "Lost basetracks: 0.239534883721 %\n",
      "327\n",
      "Lost basetracks: 0.820512820513 %\n",
      "21\n",
      "Lost basetracks: 0.288571428571 %\n",
      "747\n",
      "Lost basetracks: 0.486486486486 %\n",
      "19\n",
      "Lost basetracks: 0.218533886584 %\n",
      "565\n",
      "Lost basetracks: 0.202357563851 %\n",
      "406\n",
      "Lost basetracks: 0.264752791069 %\n",
      "461\n",
      "Lost basetracks: 0.193277310924 %\n",
      "384\n",
      "Lost basetracks: 0.509803921569 %\n",
      "50\n",
      "Lost basetracks: 0.311578947368 %\n",
      "327\n",
      "Lost basetracks: 0.631067961165 %\n",
      "38\n",
      "Lost basetracks: 0.367924528302 %\n",
      "67\n",
      "Lost basetracks: 0.180280046674 %\n",
      "2810\n",
      "Lost basetracks: 0.239595050619 %\n",
      "676\n",
      "Lost basetracks: 0.466666666667 %\n",
      "168\n",
      "Lost basetracks: 0.201581027668 %\n",
      "404\n",
      "Lost basetracks: 0.225 %\n",
      "310\n",
      "Lost basetracks: 0.318634423898 %\n",
      "479\n",
      "Lost basetracks: 0.245901639344 %\n",
      "184\n",
      "Lost basetracks: 0.257261410788 %\n",
      "179\n",
      "Lost basetracks: 0.303797468354 %\n",
      "55\n",
      "Lost basetracks: 0.407766990291 %\n",
      "61\n",
      "Lost basetracks: 0.394321766562 %\n",
      "192\n",
      "Lost basetracks: 0.378151260504 %\n",
      "518\n",
      "Lost basetracks: 0.177700348432 %\n",
      "236\n",
      "Lost basetracks: 0.226086956522 %\n",
      "1157\n",
      "Lost basetracks: 0.255813953488 %\n",
      "800\n",
      "Lost basetracks: 0.175384615385 %\n",
      "536\n",
      "Lost basetracks: 0.241791044776 %\n",
      "254\n",
      "Lost basetracks: 0.382352941176 %\n",
      "231\n",
      "Lost basetracks: 0.237096774194 %\n",
      "473\n",
      "Lost basetracks: 0.167357083679 %\n",
      "1005\n",
      "Lost basetracks: 0.276771004942 %\n",
      "439\n",
      "Lost basetracks: 0.22591943958 %\n",
      "442\n",
      "Lost basetracks: 0.559633027523 %\n",
      "48\n",
      "Lost basetracks: 0.159949622166 %\n",
      "1334\n",
      "Lost basetracks: 0.367724867725 %\n",
      "239\n",
      "Lost basetracks: 0.178690344062 %\n",
      "1480\n",
      "Lost basetracks: 0.313559322034 %\n",
      "81\n",
      "Lost basetracks: 0.109090909091 %\n",
      "196\n",
      "Lost basetracks: 0.289719626168 %\n",
      "76\n",
      "Lost basetracks: 0.297376093294 %\n",
      "241\n",
      "Lost basetracks: 0.160852713178 %\n",
      "433\n",
      "Lost basetracks: 0.386885245902 %\n",
      "187\n",
      "Lost basetracks: 0.184210526316 %\n",
      "279\n",
      "Lost basetracks: 0.188908145581 %\n",
      "936\n",
      "Lost basetracks: 0.303571428571 %\n",
      "195\n",
      "Lost basetracks: 0.4 %\n",
      "21\n",
      "Lost basetracks: 0.213038416764 %\n",
      "676\n",
      "Lost basetracks: 0.19427402863 %\n",
      "394\n",
      "Lost basetracks: 0.199643493761 %\n",
      "898\n",
      "Lost basetracks: 0.217391304348 %\n",
      "396\n",
      "Lost basetracks: 0.223853211009 %\n",
      "423\n",
      "Lost basetracks: 0.243421052632 %\n",
      "115\n",
      "Lost basetracks: 0.202678571429 %\n",
      "893\n",
      "Lost basetracks: 0.288043478261 %\n",
      "131\n",
      "Lost basetracks: 0.334239130435 %\n",
      "245\n",
      "Lost basetracks: 0.240628778718 %\n",
      "628\n",
      "Lost basetracks: 0.166666666667 %\n",
      "215\n",
      "Lost basetracks: 0.234295415959 %\n",
      "451\n",
      "Lost basetracks: 0.265840220386 %\n",
      "533\n",
      "Lost basetracks: 0.200573065903 %\n",
      "279\n",
      "Lost basetracks: 0.424460431655 %\n",
      "80\n",
      "Lost basetracks: 0.32183908046 %\n",
      "118\n",
      "Lost basetracks: 0.167224080268 %\n",
      "498\n",
      "Lost basetracks: 0.245547073791 %\n",
      "593\n",
      "Lost basetracks: 0.3 %\n",
      "63\n",
      "Lost basetracks: 0.16049382716 %\n",
      "136\n",
      "Lost basetracks: 0.305882352941 %\n",
      "295\n",
      "Lost basetracks: 0.328323699422 %\n",
      "581\n",
      "Lost basetracks: 0.199296600234 %\n",
      "683\n",
      "Lost basetracks: 0.335570469799 %\n",
      "99\n",
      "Lost basetracks: 0.350775193798 %\n",
      "335\n",
      "Lost basetracks: 0.381333333333 %\n",
      "232\n",
      "Lost basetracks: 0.246268656716 %\n",
      "101\n",
      "Lost basetracks: 0.625 %\n",
      "48\n",
      "Lost basetracks: 0.622641509434 %\n",
      "40\n",
      "Lost basetracks: 0.252941176471 %\n",
      "127\n",
      "Lost basetracks: 0.9 %\n",
      "1\n",
      "Lost basetracks: 0.403225806452 %\n",
      "37\n",
      "Lost basetracks: 0.225042301184 %\n",
      "458\n",
      "Lost basetracks: 0.280952380952 %\n",
      "151\n",
      "Lost basetracks: 0.157476139979 %\n",
      "1589\n",
      "Lost basetracks: 0.273037542662 %\n",
      "426\n",
      "Lost basetracks: 0.216300940439 %\n",
      "500\n",
      "Lost basetracks: 0.211055276382 %\n",
      "471\n",
      "Lost basetracks: 0.262548262548 %\n",
      "382\n",
      "Lost basetracks: 0.162670427833 %\n",
      "1781\n",
      "Lost basetracks: 0.267307692308 %\n",
      "381\n",
      "Lost basetracks: 0.574712643678 %\n",
      "37\n",
      "Lost basetracks: 0.400881057269 %\n",
      "136\n",
      "Lost basetracks: 0.241197183099 %\n",
      "431\n",
      "Lost basetracks: 0.258620689655 %\n",
      "301\n",
      "Lost basetracks: 0.216631858743 %\n",
      "4126\n",
      "Lost basetracks: 0.507042253521 %\n",
      "105\n",
      "Lost basetracks: 0.13707165109 %\n",
      "277\n",
      "Lost basetracks: 0.24375 %\n",
      "121\n",
      "Lost basetracks: 0.848484848485 %\n",
      "5\n",
      "Lost basetracks: 0.181898066784 %\n",
      "931\n",
      "Lost basetracks: 0.460905349794 %\n",
      "131\n",
      "Lost basetracks: 0.253258845438 %\n",
      "401\n",
      "Lost basetracks: 0.164959867146 %\n",
      "3017\n",
      "Lost basetracks: 0.214876033058 %\n",
      "95\n",
      "Lost basetracks: 0.432432432432 %\n",
      "84\n",
      "Lost basetracks: 0.0 %\n",
      "9\n",
      "Lost basetracks: 0.245521601686 %\n",
      "716\n",
      "Lost basetracks: 0.188895979579 %\n",
      "1271\n",
      "Lost basetracks: 0.447963800905 %\n",
      "366\n",
      "Lost basetracks: 0.177280550775 %\n",
      "478\n",
      "Lost basetracks: 0.448275862069 %\n",
      "48\n",
      "Lost basetracks: 0.0 %\n",
      "4\n",
      "Lost basetracks: 0.233502538071 %\n",
      "1057\n",
      "Lost basetracks: 0.232403718459 %\n",
      "578\n",
      "Lost basetracks: 0.347826086957 %\n",
      "30\n",
      "Lost basetracks: 0.240384615385 %\n",
      "316\n",
      "Lost basetracks: 0.295180722892 %\n",
      "117\n",
      "Lost basetracks: 0.241448692153 %\n",
      "377\n",
      "Lost basetracks: 0.25 %\n",
      "3\n",
      "Lost basetracks: 0.243980738363 %\n",
      "471\n",
      "Lost basetracks: 0.661538461538 %\n",
      "22\n",
      "Lost basetracks: 0.136797454931 %\n",
      "1628\n",
      "Lost basetracks: 0.845864661654 %\n",
      "41\n",
      "Lost basetracks: 0.200524246396 %\n",
      "610\n",
      "Lost basetracks: 0.956989247312 %\n",
      "8\n",
      "Lost basetracks: 0.208562019759 %\n",
      "721\n",
      "Lost basetracks: 0.175238095238 %\n",
      "866\n",
      "Lost basetracks: 0.310112359551 %\n",
      "307\n",
      "Lost basetracks: 0.388888888889 %\n",
      "220\n",
      "Lost basetracks: 0.423913043478 %\n",
      "265\n",
      "Lost basetracks: 0.2272215973 %\n",
      "687\n",
      "Lost basetracks: 0.403712296984 %\n",
      "257\n",
      "Lost basetracks: 0.5 %\n",
      "66\n",
      "Lost basetracks: 0.237354085603 %\n",
      "196\n",
      "Lost basetracks: 0.25117370892 %\n",
      "638\n",
      "Lost basetracks: 0.231012658228 %\n",
      "243\n",
      "Lost basetracks: 0.285012285012 %\n",
      "291\n",
      "Lost basetracks: 0.304794520548 %\n",
      "203\n",
      "Lost basetracks: 0.393617021277 %\n",
      "114\n",
      "Lost basetracks: 0.191616766467 %\n",
      "135\n",
      "Lost basetracks: 0.153945666235 %\n",
      "654\n",
      "Lost basetracks: 0.982300884956 %\n",
      "8\n",
      "Lost basetracks: 0.450292397661 %\n",
      "94\n",
      "Lost basetracks: 0.204761904762 %\n",
      "501\n",
      "Lost basetracks: 0.222338204593 %\n",
      "745\n",
      "Lost basetracks: 0.20881383855 %\n",
      "1921\n",
      "Lost basetracks: 0.308483290488 %\n",
      "269\n",
      "Lost basetracks: 0.273224043716 %\n",
      "133\n",
      "Lost basetracks: 0.122580645161 %\n",
      "272\n",
      "Lost basetracks: 0.609756097561 %\n",
      "48\n",
      "Lost basetracks: 1.0 %\n",
      "0\n",
      "Lost basetracks: 0.428571428571 %\n",
      "28\n",
      "Lost basetracks: 0.178260869565 %\n",
      "189\n",
      "Lost basetracks: 0.316076294278 %\n",
      "251\n",
      "Lost basetracks: 0.211009174312 %\n",
      "86\n",
      "Lost basetracks: 0.5 %\n",
      "2\n",
      "Lost basetracks: 0.266666666667 %\n",
      "55\n",
      "Lost basetracks: 0.5 %\n",
      "5\n",
      "Lost basetracks: 0.194244604317 %\n",
      "112\n",
      "Lost basetracks: 0.505050505051 %\n",
      "49\n",
      "Lost basetracks: 0.229281767956 %\n",
      "558\n",
      "Lost basetracks: 0.24978687127 %\n",
      "880\n",
      "Lost basetracks: 0.251851851852 %\n",
      "202\n",
      "Lost basetracks: 0.243644067797 %\n",
      "357\n",
      "Lost basetracks: 0.36170212766 %\n",
      "300\n",
      "Lost basetracks: 0.611111111111 %\n",
      "7\n",
      "Lost basetracks: 0.337209302326 %\n",
      "114\n",
      "Lost basetracks: 0.218390804598 %\n",
      "340\n",
      "Lost basetracks: 0.223404255319 %\n",
      "146\n",
      "Lost basetracks: 0.403669724771 %\n",
      "65\n"
     ]
    }
   ],
   "source": [
    "num_idx = 200\n",
    "train = pd.DataFrame()\n",
    "for id in numpy.arange(0, num_idx):\n",
    "    train_tmp = combine_mc_bg(pmc, pbg, id=id)\n",
    "    \n",
    "    print ('Lost basetracks:', 1 - sum(train_tmp.signal)/pmc.iloc[id].numtracks, '%')\n",
    "    #B, X, Y = Simple_Hough3D(train_tmp.sx.values, train_tmp.sy.values, train_tmp.sz.values, train_tmp.ex.values, train_tmp.ey.values)\n",
    "    #kernel_train = gaussian_kde(numpy.concatenate([B, X, Y]))\n",
    "    #density_train = kernel_train(numpy.concatenate([B, X, Y]))\n",
    "    \n",
    "    print (sum(train_tmp.signal))\n",
    "    #train_tmp['pdf_density'] = density_train\n",
    "    train_tmp['group'] = id\n",
    "    train = train.append(train_tmp)"
   ]
  },
  {
   "cell_type": "code",
   "execution_count": 16,
   "metadata": {
    "collapsed": false
   },
   "outputs": [
    {
     "name": "stdout",
     "output_type": "stream",
     "text": [
      "Lost basetracks: 0.75 %\n",
      "61\n",
      "Lost basetracks: 0.388571428571 %\n",
      "107\n",
      "Lost basetracks: 0.258278145695 %\n",
      "1120\n",
      "Lost basetracks: 0.135550935551 %\n",
      "2079\n",
      "Lost basetracks: 0.248882265276 %\n",
      "1008\n",
      "Lost basetracks: 0.131386861314 %\n",
      "238\n",
      "Lost basetracks: 0.375 %\n",
      "130\n",
      "Lost basetracks: 0.469879518072 %\n",
      "132\n",
      "Lost basetracks: 0.192307692308 %\n",
      "42\n",
      "Lost basetracks: 0.577319587629 %\n",
      "41\n",
      "Lost basetracks: 0.234413965087 %\n",
      "307\n",
      "Lost basetracks: 0.232876712329 %\n",
      "168\n",
      "Lost basetracks: 0.233128834356 %\n",
      "125\n",
      "Lost basetracks: 0.279661016949 %\n",
      "510\n",
      "Lost basetracks: 0.289473684211 %\n",
      "108\n",
      "Lost basetracks: 0.285714285714 %\n",
      "5\n",
      "Lost basetracks: 0.331877729258 %\n",
      "306\n",
      "Lost basetracks: 0.153727901614 %\n",
      "3303\n",
      "Lost basetracks: 0.441558441558 %\n",
      "129\n",
      "Lost basetracks: 0.164583333333 %\n",
      "401\n",
      "Lost basetracks: 0.441330998249 %\n",
      "319\n",
      "Lost basetracks: 0.470588235294 %\n",
      "9\n",
      "Lost basetracks: 0.268518518519 %\n",
      "316\n",
      "Lost basetracks: 0.126227208976 %\n",
      "623\n",
      "Lost basetracks: 0.132258064516 %\n",
      "538\n",
      "Lost basetracks: 0.228828828829 %\n",
      "428\n",
      "Lost basetracks: 0.269230769231 %\n",
      "38\n",
      "Lost basetracks: 0.342857142857 %\n",
      "23\n",
      "Lost basetracks: 0.251308900524 %\n",
      "143\n",
      "Lost basetracks: 0.331125827815 %\n",
      "404\n",
      "Lost basetracks: 0.37037037037 %\n",
      "17\n",
      "Lost basetracks: 0.285046728972 %\n",
      "153\n",
      "Lost basetracks: 0.436507936508 %\n",
      "142\n",
      "Lost basetracks: 0.241379310345 %\n",
      "220\n",
      "Lost basetracks: 0.403141361257 %\n",
      "228\n",
      "Lost basetracks: 0.0 %\n",
      "4\n",
      "Lost basetracks: 0.54675118859 %\n",
      "286\n",
      "Lost basetracks: 0.199032480995 %\n",
      "1159\n",
      "Lost basetracks: 1.0 %\n",
      "0\n",
      "Lost basetracks: 0.519230769231 %\n",
      "25\n",
      "Lost basetracks: 0.345930232558 %\n",
      "450\n",
      "Lost basetracks: 0.492700729927 %\n",
      "139\n",
      "Lost basetracks: 0.205078125 %\n",
      "407\n",
      "Lost basetracks: 0.322429906542 %\n",
      "145\n",
      "Lost basetracks: 0.227586206897 %\n",
      "224\n",
      "Lost basetracks: 0.20623501199 %\n",
      "662\n",
      "Lost basetracks: 0.176397515528 %\n",
      "663\n",
      "Lost basetracks: 0.36690647482 %\n",
      "440\n",
      "Lost basetracks: 0.195183776933 %\n",
      "635\n",
      "Lost basetracks: 0.36496350365 %\n",
      "87\n",
      "Lost basetracks: 0.205882352941 %\n",
      "243\n",
      "Lost basetracks: 0.461538461538 %\n",
      "14\n",
      "Lost basetracks: 0.211409395973 %\n",
      "1175\n",
      "Lost basetracks: 0.6875 %\n",
      "25\n",
      "Lost basetracks: 0.215374420146 %\n",
      "1184\n",
      "Lost basetracks: 0.211891891892 %\n",
      "729\n",
      "Lost basetracks: 0.215625 %\n",
      "251\n",
      "Lost basetracks: 0.218673218673 %\n",
      "636\n",
      "Lost basetracks: 0.394366197183 %\n",
      "86\n",
      "Lost basetracks: 0.183639398998 %\n",
      "489\n",
      "Lost basetracks: 0.142857142857 %\n",
      "222\n",
      "Lost basetracks: 0.250596658711 %\n",
      "314\n",
      "Lost basetracks: 0.236933797909 %\n",
      "438\n",
      "Lost basetracks: 0.352941176471 %\n",
      "242\n",
      "Lost basetracks: 0.347619047619 %\n",
      "137\n",
      "Lost basetracks: 0.288261515602 %\n",
      "479\n",
      "Lost basetracks: 0.177083333333 %\n",
      "79\n",
      "Lost basetracks: 0.30303030303 %\n",
      "161\n",
      "Lost basetracks: 0.218637992832 %\n",
      "436\n",
      "Lost basetracks: 0.48679245283 %\n",
      "136\n",
      "Lost basetracks: 0.1875 %\n",
      "52\n",
      "Lost basetracks: 0.271111111111 %\n",
      "164\n",
      "Lost basetracks: 0.189189189189 %\n",
      "90\n",
      "Lost basetracks: 0.184573002755 %\n",
      "296\n",
      "Lost basetracks: 0.187056737589 %\n",
      "917\n",
      "Lost basetracks: 0.296703296703 %\n",
      "768\n",
      "Lost basetracks: 0.144393241167 %\n",
      "557\n",
      "Lost basetracks: 0.339207048458 %\n",
      "150\n",
      "Lost basetracks: 0.95 %\n",
      "3\n",
      "Lost basetracks: 0.254498714653 %\n",
      "290\n",
      "Lost basetracks: 0.261627906977 %\n",
      "254\n",
      "Lost basetracks: 0.313868613139 %\n",
      "188\n",
      "Lost basetracks: 0.221189591078 %\n",
      "419\n",
      "Lost basetracks: 0.168130489335 %\n",
      "663\n",
      "Lost basetracks: 0.193960511034 %\n",
      "694\n",
      "Lost basetracks: 0.128834355828 %\n",
      "994\n",
      "Lost basetracks: 0.257462686567 %\n",
      "199\n",
      "Lost basetracks: 0.344262295082 %\n",
      "40\n",
      "Lost basetracks: 0.510869565217 %\n",
      "45\n",
      "Lost basetracks: 0.230769230769 %\n",
      "170\n",
      "Lost basetracks: 0.196428571429 %\n",
      "675\n",
      "Lost basetracks: 0.355677154583 %\n",
      "471\n",
      "Lost basetracks: 0.115653040877 %\n",
      "887\n",
      "Lost basetracks: 0.237788018433 %\n",
      "827\n",
      "Lost basetracks: 0.256360078278 %\n",
      "760\n",
      "Lost basetracks: 1.0 %\n",
      "0\n",
      "Lost basetracks: 0.133793103448 %\n",
      "628\n",
      "Lost basetracks: 0.15987460815 %\n",
      "268\n",
      "Lost basetracks: 0.211822660099 %\n",
      "320\n",
      "Lost basetracks: 0.148681055156 %\n",
      "355\n"
     ]
    }
   ],
   "source": [
    "test = pd.DataFrame()\n",
    "for id in numpy.arange(201, 301):\n",
    "    test_tmp = combine_mc_bg(pmc, pbg, id=id)\n",
    "\n",
    "    print ('Lost basetracks:', 1 - sum(test_tmp.signal)/pmc.iloc[id].numtracks, '%')\n",
    "    #B, X, Y = Simple_Hough3D(test_tmp.sx.values, test_tmp.sy.values, test_tmp.sz.values, test_tmp.ex.values, test_tmp.ey.values)\n",
    "    #kernel_train = gaussian_kde(numpy.concatenate([B, X, Y]))\n",
    "    #density_train = kernel_train(numpy.concatenate([B, X, Y]))\n",
    "    print (sum(test_tmp.signal))\n",
    "    #test_tmp['pdf_density'] = density_train\n",
    "    \n",
    "    test_tmp['group'] = id\n",
    "    test = test.append(test_tmp)"
   ]
  },
  {
   "cell_type": "code",
   "execution_count": 19,
   "metadata": {
    "collapsed": true
   },
   "outputs": [],
   "source": [
    "train['X_proj'] = train['sx'] - train['TX']*(train['sz'] - train['ele_z'])\n",
    "train['Y_proj'] = train['sy'] - train['TY']*(train['sz'] - train['ele_z'])\n",
    "\n",
    "train['IP/dZ'] = numpy.sqrt((train['ele_x'] - train['X_proj'])**2 + (train['ele_y'] - train['Y_proj'])**2)/(train['sz'] - train['ele_z'])\n",
    "\n",
    "train['TX'] = train['TX'] - train['ele_sx']\n",
    "train['TY'] = train['TY'] - train['ele_sy']"
   ]
  },
  {
   "cell_type": "code",
   "execution_count": 36,
   "metadata": {
    "collapsed": false
   },
   "outputs": [
    {
     "data": {
      "image/png": "[encoded data removed]",
      "text/plain": [
       "<matplotlib.figure.Figure at 0x7f1d91247e10>"
      ]
     },
     "metadata": {},
     "output_type": "display_data"
    }
   ],
   "source": [
    "plt.hist(train.loc[(train.signal == 1)]['IP/dZ'], bins=100, range=(0,1));"
   ]
  },
  {
   "cell_type": "code",
   "execution_count": 37,
   "metadata": {
    "collapsed": true
   },
   "outputs": [],
   "source": [
    "test['X_proj'] = test['sx'] - test['TX']*(test['sz'] - test['ele_z'])\n",
    "test['Y_proj'] = test['sy'] - test['TY']*(test['sz'] - test['ele_z'])\n",
    "\n",
    "test['IP/dZ'] = numpy.sqrt((test['ele_x'] - test['X_proj'])**2 + (test['ele_y'] - test['Y_proj'])**2)/(test['sz'] - test['ele_z'])\n",
    "\n",
    "test['TX'] = test['TX'] - test['ele_sx']\n",
    "test['TY'] = test['TY'] - test['ele_sy']"
   ]
  },
  {
   "cell_type": "code",
   "execution_count": 38,
   "metadata": {
    "collapsed": false
   },
   "outputs": [],
   "source": [
    "features = list(set(train.columns) - {'signal', 'sx', 'sx', 'sy', 'sz', 'ex', 'ey', 'ez', 'X_proj', 'Y_proj',\n",
    "                                     'ele_x', 'ele_y', 'ele_z', 'ele_sx', 'ele_sy', 'group','pdf_density','ele_sz'})"
   ]
  },
  {
   "cell_type": "code",
   "execution_count": 39,
   "metadata": {
    "collapsed": false
   },
   "outputs": [
    {
     "data": {
      "text/plain": [
       "['TX', 'alpha', 'IP/dZ', 'TY', 'chi2']"
      ]
     },
     "execution_count": 39,
     "metadata": {},
     "output_type": "execute_result"
    }
   ],
   "source": [
    "features"
   ]
  },
  {
   "cell_type": "code",
   "execution_count": 40,
   "metadata": {
    "collapsed": false
   },
   "outputs": [
    {
     "name": "stdout",
     "output_type": "stream",
     "text": [
      "CPU times: user 1h 22min 38s, sys: 1min 54s, total: 1h 24min 33s\n",
      "Wall time: 20min 54s\n"
     ]
    }
   ],
   "source": [
    "%%time\n",
    "params = {'max_depth' : [8],\n",
    "          'n_estimators' : [150],\n",
    "           'min_child_weight':[1],\n",
    "           'subsample':[0.8], \n",
    "           'colsample_bytree':[0.8]}\n",
    "\n",
    "clf = GridSearchCV(XGBClassifier(silent=False, learning_rate=0.1), params, scoring='roc_auc', cv=3, refit=True)\n",
    "clf.fit(train[features], train.signal, groups=train.group);"
   ]
  },
  {
   "cell_type": "code",
   "execution_count": 41,
   "metadata": {
    "collapsed": false
   },
   "outputs": [
    {
     "name": "stderr",
     "output_type": "stream",
     "text": [
      "/home/acapello/anaconda3/lib/python3.5/site-packages/sklearn/model_selection/_search.py:662: DeprecationWarning: The grid_scores_ attribute was deprecated in version 0.18 in favor of the more elaborate cv_results_ attribute. The grid_scores_ attribute will not be available from 0.20\n",
      "  DeprecationWarning)\n"
     ]
    },
    {
     "data": {
      "text/plain": [
       "[mean: 0.95929, std: 0.00220, params: {'min_child_weight': 1, 'max_depth': 8, 'colsample_bytree': 0.8, 'n_estimators': 150, 'subsample': 0.8}]"
      ]
     },
     "execution_count": 41,
     "metadata": {},
     "output_type": "execute_result"
    }
   ],
   "source": [
    "clf.grid_scores_"
   ]
  },
  {
   "cell_type": "code",
   "execution_count": 42,
   "metadata": {
    "collapsed": false
   },
   "outputs": [
    {
     "name": "stdout",
     "output_type": "stream",
     "text": [
      "RO C AUC = 0.96198414298\n",
      "False positive rate = 0.00429521639451 while True positive = 0.5\n",
      "True positive rate =  0.0137648905241 , while False postive rate = 0.0\n",
      "\n"
     ]
    }
   ],
   "source": [
    "from sklearn.metrics import roc_curve, auc\n",
    "y_score = clf.predict_proba(test[features])\n",
    "fpr, tpr, _ = roc_curve(test.signal.values, y_score[:, 1], drop_intermediate=True)\n",
    "roc_auc = auc(fpr, tpr)\n",
    "print ('RO C AUC =', roc_auc)\n",
    "print (\"False positive rate =\",fpr[tpr > .5][0], \"while True positive = 0.5\")\n",
    "print (\"True positive rate = \", tpr[fpr == 0.][-1], \", while False postive rate = 0.0\")\n",
    "print ()"
   ]
  },
  {
   "cell_type": "code",
   "execution_count": 43,
   "metadata": {
    "collapsed": false
   },
   "outputs": [
    {
     "data": {
      "image/png": "[encoded data removed]",
      "text/plain": [
       "<matplotlib.figure.Figure at 0x7f1d8fecb390>"
      ]
     },
     "metadata": {},
     "output_type": "display_data"
    }
   ],
   "source": [
    "y_score = clf.predict_proba(test[features])\n",
    "\n",
    "fpr, tpr, _ = roc_curve(test.signal.values, y_score[:, 1], drop_intermediate=True)\n",
    "roc_auc = auc(fpr, tpr)\n",
    "\n",
    "plt.figure(figsize=(7,7))\n",
    "plt.plot(fpr, tpr, color='darkorange',\n",
    "         lw=2, label='ROC curve (area = %0.2f)' % roc_auc)\n",
    "plt.plot([0, 1], [0, 1], color='navy', lw=2, linestyle='--')\n",
    "plt.xlim([0.0, 1.0])\n",
    "plt.ylim([0.0, 1.05])\n",
    "plt.xlabel('False Positive Rate')\n",
    "plt.ylabel('True Positive Rate')\n",
    "plt.title('Receiver operating characteristic')\n",
    "plt.legend(loc=\"lower right\")\n",
    "plt.show()"
   ]
  },
  {
   "cell_type": "markdown",
   "metadata": {},
   "source": [
    "# Часть 2"
   ]
  },
  {
   "cell_type": "code",
   "execution_count": 44,
   "metadata": {
    "collapsed": true
   },
   "outputs": [],
   "source": [
    "from sklearn.neighbors import NearestNeighbors\n",
    "from sklearn.decomposition import PCA\n",
    "\n",
    "def metric_res(u, v):\n",
    "    X = numpy.array([[u[0], u[0] + u[3]*dZ, v[0], v[0] + v[3]*dZ], \n",
    "                     [u[1], u[1] + u[4]*dZ, v[1], v[1] + v[4]*dZ],\n",
    "                     [u[2], u[2] + dZ, v[2], v[2] + dZ]]).T\n",
    "    pca = PCA(n_components=1).fit(X)\n",
    "    t = ((X - pca.mean_)/pca.components_).mean(axis=1)\n",
    "    res = (X - pca.mean_) - pca.components_*t[:,numpy.newaxis]\n",
    "    residual = numpy.sqrt(((res**2).sum(axis=1)).sum())\n",
    "    return residual\n",
    "\n",
    "def metric_angle(u, v):\n",
    "    alpha_1 = angle(numpy.array([[u[3], u[4], 1]]), \n",
    "                    numpy.array([[v[0] - u[0], v[1] - u[1], v[2] - u[2]]]))\n",
    "    alpha_2 = angle(numpy.array([[u[3], u[4], 1]]), \n",
    "                    numpy.array([[v[0] + dZ*v[3] - u[0], v[1] + dZ*v[4] - u[1], v[2] + dZ - u[2]]]))\n",
    "    alpha_3 = angle(numpy.array([[v[3], v[4], 1]]), \n",
    "                    numpy.array([[v[0] + dZ*v[3] - u[0], v[1] + dZ*v[4] - u[1], v[2] + dZ - u[2]]]))\n",
    "    alpha_4 = angle(numpy.array([[v[3], v[4], 1]]), \n",
    "                    numpy.array([[v[0] + dZ*v[3] - u[0] - dZ*u[3], v[1] + dZ*v[4] - u[1] - dZ*u[4], v[2]  - u[2]]]))\n",
    "    alpha_1 = min(alpha_1, numpy.pi - alpha_1)\n",
    "    alpha_2 = min(alpha_2, numpy.pi - alpha_2)\n",
    "    alpha_3 = min(alpha_3, numpy.pi - alpha_3)\n",
    "    alpha_4 = min(alpha_4, numpy.pi - alpha_4)\n",
    "    return alpha_1 + alpha_2 + alpha_3 + alpha_4"
   ]
  },
  {
   "cell_type": "code",
   "execution_count": 45,
   "metadata": {
    "collapsed": true
   },
   "outputs": [],
   "source": [
    "def combine_mc_bg(pmc, pbg, id=0):\n",
    "    dZ = 204\n",
    "    #random permutation of basetracks in background\n",
    "    #pbg['s.eX'] = pbg['s.eX'].sample(frac=1)\n",
    "    #pbg['s.eY'] = pbg['s.eY'].sample(frac=1)\n",
    "    #pbg['s.eZ'] = pbg['s.eZ'].sample(frac=1)\n",
    "    df = pmc.iloc[id]\n",
    "    frac_z = (BT_Z_unique.max() - df.ele_z)/(BT_Z_unique.max() - BT_Z_unique.min())\n",
    "    pbg = pbg.sample(frac=frac_z)\n",
    "    pbg['s.eZ'] = numpy.random.choice(BT_Z_unique[BT_Z_unique >= df.ele_z], size=len(pbg)) \n",
    "    dmix = pd.DataFrame([\n",
    "                pbg['s.eX'],\n",
    "                pbg['s.eY'],\n",
    "                pbg['s.eZ'],\n",
    "                pbg['s.eTX'],\n",
    "                pbg['s.eTY'],\n",
    "                pbg['s.eX'] + pbg['s.eTX']*dZ,\n",
    "                pbg['s.eY'] + pbg['s.eTY']*dZ,\n",
    "                pbg['s.eZ'] + dZ,\n",
    "                pbg['s.eChi2']],\n",
    "                index=['sx', 'sy', 'sz', 'TX', 'TY', \n",
    "                       'ex', 'ey', 'ez', 'chi2']).T\n",
    "    dmix['signal'] = 0\n",
    "       \n",
    "    dmc = pd.DataFrame([        \n",
    "                df['BT_X'],\n",
    "                df['BT_Y'],\n",
    "                df['BT_Z'],\n",
    "                df['BT_SX'],\n",
    "                df['BT_SY'],\n",
    "                df['BT_X'] + df['BT_SX']*dZ,\n",
    "                df['BT_Y'] + df['BT_SY']*dZ,\n",
    "                df['BT_Z'] + dZ,\n",
    "                df['chisquare'][:len(df['BT_X'])]],\n",
    "                index=['sx', 'sy', 'sz', 'TX', 'TY', \n",
    "              'ex', 'ey', 'ez', 'chi2']).T\n",
    "    dmc['signal'] = 1\n",
    "    \n",
    "    dd = pd.concat([dmix, dmc])\n",
    "    dd['ele_x'] = df['ele_x']\n",
    "    dd['ele_y'] = df['ele_y']\n",
    "    dd['ele_z'] = df['ele_z']\n",
    "    dd['ele_sx'] = df['ele_sx']\n",
    "    dd['ele_sy'] = df['ele_sy']\n",
    "    dd['ele_sz'] = 1\n",
    "    alpha = angle(numpy.array([(dd['sx'] - dd['ele_x']), (dd['sy'] - dd['ele_y']), (dd['sz'] - dd['ele_z'])]).T, \n",
    "                  numpy.array([dd['ele_sx'], dd['ele_sy'], dd['ele_sz']]).T)\n",
    "    dd['alpha'] = alpha\n",
    "    dd = dd.loc[dd.chi2 < 3]\n",
    "    return dd"
   ]
  },
  {
   "cell_type": "code",
   "execution_count": 46,
   "metadata": {
    "collapsed": false
   },
   "outputs": [
    {
     "name": "stdout",
     "output_type": "stream",
     "text": [
      "bg: 273237 tracks\n"
     ]
    }
   ],
   "source": [
    "pbg = load_bg(step=100)\n",
    "train = combine_mc_bg(pmc, pbg, id=0)"
   ]
  },
  {
   "cell_type": "code",
   "execution_count": 47,
   "metadata": {
    "collapsed": false
   },
   "outputs": [
    {
     "data": {
      "text/plain": [
       "237777"
      ]
     },
     "execution_count": 47,
     "metadata": {},
     "output_type": "execute_result"
    }
   ],
   "source": [
    "len(train)"
   ]
  },
  {
   "cell_type": "code",
   "execution_count": 48,
   "metadata": {
    "collapsed": true
   },
   "outputs": [],
   "source": [
    "low = 68529.0\n",
    "mid = 69822.0\n",
    "high = 71115.0\n",
    "\n",
    "right_layer = train.loc[(train.sz >= mid) & (train.sz < high)][['sx', 'sy', 'sz', 'TX', 'TY', 'signal']]\n",
    "left_layer = train.loc[(train.sz < mid) & (train.sz >= low)][['sx', 'sy', 'sz', 'TX', 'TY', 'signal']]"
   ]
  },
  {
   "cell_type": "code",
   "execution_count": 49,
   "metadata": {
    "collapsed": false
   },
   "outputs": [
    {
     "name": "stdout",
     "output_type": "stream",
     "text": [
      "4969\n",
      "5017\n"
     ]
    }
   ],
   "source": [
    "print (len(right_layer))\n",
    "print (len(left_layer))"
   ]
  },
  {
   "cell_type": "code",
   "execution_count": 51,
   "metadata": {
    "collapsed": false
   },
   "outputs": [
    {
     "name": "stdout",
     "output_type": "stream",
     "text": [
      "CPU times: user 0 ns, sys: 0 ns, total: 0 ns\n",
      "Wall time: 628 µs\n"
     ]
    }
   ],
   "source": [
    "%%time\n",
    "nn = NearestNeighbors(metric=metric_angle, n_jobs=8, algorithm='brute').fit(right_layer)"
   ]
  },
  {
   "cell_type": "code",
   "execution_count": 52,
   "metadata": {
    "collapsed": false
   },
   "outputs": [
    {
     "name": "stdout",
     "output_type": "stream",
     "text": [
      "CPU times: user 5.08 s, sys: 1.6 s, total: 6.68 s\n",
      "Wall time: 21min 13s\n"
     ]
    }
   ],
   "source": [
    "%%time\n",
    "A,B = nn.kneighbors(left_layer, 2)"
   ]
  },
  {
   "cell_type": "code",
   "execution_count": 53,
   "metadata": {
    "collapsed": false
   },
   "outputs": [],
   "source": [
    "right_layer_selected = right_layer.iloc[B[:, 0]]"
   ]
  },
  {
   "cell_type": "code",
   "execution_count": 54,
   "metadata": {
    "collapsed": true
   },
   "outputs": [],
   "source": [
    "def pca_axis(a):\n",
    "    X = numpy.array([[a[0], a[0] + a[3]*dZ, a[6], a[6] + a[9]*dZ], \n",
    "                     [a[1], a[1] + a[4]*dZ, a[7], a[7] + a[10]*dZ],\n",
    "                     [a[2], a[2] + dZ, a[8], a[8] + dZ]]).T\n",
    "    pca = PCA(n_components=1).fit(X)\n",
    "    t = ((X - pca.mean_)/pca.components_).mean(axis=1)\n",
    "    res = (X - pca.mean_) - pca.components_*t[:,numpy.newaxis]\n",
    "    residual = numpy.sqrt(((res**2).sum(axis=1)).sum())\n",
    "    return residual\n",
    "def alpha_axis(a):\n",
    "    alpha_1 = angle(numpy.array([[a[3], a[4], 1]]), \n",
    "                    numpy.array([[a[6] - a[0], a[7] - a[1], a[8] - a[2]]]))\n",
    "    alpha_2 = angle(numpy.array([[a[3], a[4], 1]]), \n",
    "                    numpy.array([[a[6] + dZ*a[9] - a[0], a[7] + dZ*a[10] - a[1], a[8] + dZ - a[2]]]))\n",
    "    alpha_3 = angle(numpy.array([[a[9], a[10], 1]]), \n",
    "                    numpy.array([[a[6] + dZ*a[9] - a[0], a[7] + dZ*a[10] - a[1], a[8] + dZ - a[2]]]))\n",
    "    alpha_4 = angle(numpy.array([[a[9], a[10], 1]]), \n",
    "                    numpy.array([[a[6] + dZ*a[9] - a[0] - dZ*a[3], a[7] + dZ*a[10] - a[1] - dZ*a[4], a[8]  - a[2]]]))\n",
    "    alpha_1 = min(alpha_1, numpy.pi - alpha_1)\n",
    "    alpha_2 = min(alpha_2, numpy.pi - alpha_2)\n",
    "    alpha_3 = min(alpha_3, numpy.pi - alpha_3)\n",
    "    alpha_4 = min(alpha_4, numpy.pi - alpha_4)\n",
    "    return alpha_1 + alpha_2 + alpha_3 + alpha_4"
   ]
  },
  {
   "cell_type": "code",
   "execution_count": 55,
   "metadata": {
    "collapsed": false
   },
   "outputs": [
    {
     "name": "stdout",
     "output_type": "stream",
     "text": [
      "CPU times: user 1.35 s, sys: 52 ms, total: 1.4 s\n",
      "Wall time: 1.35 s\n"
     ]
    }
   ],
   "source": [
    "%%time\n",
    "tmp = numpy.concatenate((left_layer.values, right_layer_selected.values), axis=1)\n",
    "res_axis = numpy.apply_along_axis(pca_axis, 1, tmp)"
   ]
  },
  {
   "cell_type": "code",
   "execution_count": 56,
   "metadata": {
    "collapsed": false
   },
   "outputs": [
    {
     "name": "stdout",
     "output_type": "stream",
     "text": [
      "CPU times: user 1.03 s, sys: 48 ms, total: 1.08 s\n",
      "Wall time: 1 s\n"
     ]
    }
   ],
   "source": [
    "%%time\n",
    "tmp = numpy.concatenate((left_layer.values, right_layer_selected.values), axis=1)\n",
    "alpha_axis = numpy.apply_along_axis(alpha_axis, 1, tmp)"
   ]
  },
  {
   "cell_type": "code",
   "execution_count": 57,
   "metadata": {
    "collapsed": false
   },
   "outputs": [
    {
     "data": {
      "image/png": "[encoded data removed]",
      "text/plain": [
       "<matplotlib.figure.Figure at 0x7f1dfcbac668>"
      ]
     },
     "metadata": {},
     "output_type": "display_data"
    }
   ],
   "source": [
    "plt.figure(figsize=(10,6))\n",
    "plt.hist(res_axis[(left_layer.signal == 0).values], bins=100, range=(0,100));\n",
    "plt.hist(res_axis[(left_layer.signal == 1).values], bins=100, range=(0,100));"
   ]
  },
  {
   "cell_type": "code",
   "execution_count": 58,
   "metadata": {
    "collapsed": false
   },
   "outputs": [
    {
     "data": {
      "image/png": "[encoded data removed]",
      "text/plain": [
       "<matplotlib.figure.Figure at 0x7f1d573c5eb8>"
      ]
     },
     "metadata": {},
     "output_type": "display_data"
    }
   ],
   "source": [
    "plt.figure(figsize=(10,6))\n",
    "plt.hist(alpha_axis[(left_layer.signal == 0).values], bins=20, range=(0,1));\n",
    "plt.hist(alpha_axis[(left_layer.signal == 1).values], bins=20, range=(0,1));"
   ]
  },
  {
   "cell_type": "code",
   "execution_count": null,
   "metadata": {
    "collapsed": true
   },
   "outputs": [],
   "source": []
  }
 ],
 "metadata": {
  "celltoolbar": "Slideshow",
  "kernelspec": {
   "display_name": "Python 3",
   "language": "python",
   "name": "python3"
  },
  "language_info": {
   "codemirror_mode": {
    "name": "ipython",
    "version": 3
   },
   "file_extension": ".py",
   "mimetype": "text/x-python",
   "name": "python",
   "nbconvert_exporter": "python",
   "pygments_lexer": "ipython3",
   "version": "3.5.2"
  }
 },
 "nbformat": 4,
 "nbformat_minor": 0
}
